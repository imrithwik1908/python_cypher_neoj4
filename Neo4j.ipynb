{
  "cells": [
    {
      "cell_type": "markdown",
      "source": [
        "# Creation of fake dataset uisng \"Faker\" module for data analysis part"
      ],
      "metadata": {
        "id": "oq7IF6wNA9Qq"
      }
    },
    {
      "cell_type": "code",
      "source": [
        "!pip install faker"
      ],
      "metadata": {
        "colab": {
          "base_uri": "https://localhost:8080/"
        },
        "collapsed": true,
        "id": "3g0L8mm0BG0o",
        "outputId": "7201566c-76d4-41be-c4bc-68b877e68589"
      },
      "execution_count": 2,
      "outputs": [
        {
          "output_type": "stream",
          "name": "stdout",
          "text": [
            "Collecting faker\n",
            "  Downloading Faker-33.1.0-py3-none-any.whl.metadata (15 kB)\n",
            "Requirement already satisfied: python-dateutil>=2.4 in /usr/local/lib/python3.10/dist-packages (from faker) (2.8.2)\n",
            "Requirement already satisfied: typing-extensions in /usr/local/lib/python3.10/dist-packages (from faker) (4.12.2)\n",
            "Requirement already satisfied: six>=1.5 in /usr/local/lib/python3.10/dist-packages (from python-dateutil>=2.4->faker) (1.17.0)\n",
            "Downloading Faker-33.1.0-py3-none-any.whl (1.9 MB)\n",
            "\u001b[2K   \u001b[90m━━━━━━━━━━━━━━━━━━━━━━━━━━━━━━━━━━━━━━━━\u001b[0m \u001b[32m1.9/1.9 MB\u001b[0m \u001b[31m17.0 MB/s\u001b[0m eta \u001b[36m0:00:00\u001b[0m\n",
            "\u001b[?25hInstalling collected packages: faker\n",
            "Successfully installed faker-33.1.0\n"
          ]
        }
      ]
    },
    {
      "cell_type": "code",
      "source": [
        "import random\n",
        "import json\n",
        "from faker import Faker\n",
        "\n",
        "fake = Faker()\n",
        "\n",
        "# Generate fake teams\n",
        "teams = [{\"name\": f\"Team {chr(65+i)}\", \"country\": fake.country()} for i in range(8)]\n",
        "\n",
        "# Generate fake players\n",
        "roles = [\"Batsman\", \"Bowler\", \"All-rounder\", \"Wicketkeeper\"]\n",
        "players = [\n",
        "    {\n",
        "        \"name\": fake.name(),\n",
        "        \"age\": random.randint(18, 35),\n",
        "        \"role\": random.choice(roles),\n",
        "        \"team\": random.choice(teams)[\"name\"]\n",
        "    }\n",
        "    for _ in range(50)\n",
        "]\n",
        "\n",
        "# Generate fake matches\n",
        "locations = [fake.city() for _ in range(10)]\n",
        "matches = [\n",
        "    {\n",
        "        \"match_id\": i,\n",
        "        \"date\": fake.date_between(start_date=\"-2y\", end_date=\"today\").strftime(\"%Y-%m-%d\"),\n",
        "        \"location\": random.choice(locations),\n",
        "        \"team1\": random.choice(teams)[\"name\"],\n",
        "        \"team2\": random.choice(teams)[\"name\"],\n",
        "        \"winner\": random.choice([None, \"team1\", \"team2\"]),\n",
        "    }\n",
        "    for i in range(20)\n",
        "]\n",
        "\n",
        "# Export dataset as JSON\n",
        "dataset = {\"teams\": teams, \"players\": players, \"matches\": matches}\n",
        "with open(\"cricket_data.json\", \"w\") as f:\n",
        "    json.dump(dataset, f, indent=4)\n",
        "\n",
        "print(\"Fake dataset created and saved as cricket_data.json\")\n"
      ],
      "metadata": {
        "colab": {
          "base_uri": "https://localhost:8080/"
        },
        "id": "VDicx5onA7RJ",
        "outputId": "c7d4a639-3bee-4c75-d703-57861b23a203"
      },
      "execution_count": 3,
      "outputs": [
        {
          "output_type": "stream",
          "name": "stdout",
          "text": [
            "Fake dataset created and saved as cricket_data.json\n"
          ]
        }
      ]
    },
    {
      "cell_type": "markdown",
      "source": [
        "# Cypher Queries to Populate the Database"
      ],
      "metadata": {
        "id": "bJe84Et8ImMG"
      }
    },
    {
      "cell_type": "code",
      "source": [
        "!pip install neo4j"
      ],
      "metadata": {
        "colab": {
          "base_uri": "https://localhost:8080/"
        },
        "collapsed": true,
        "id": "7BPnPknRKFbp",
        "outputId": "2723d716-2b6c-4a00-ba85-e1e803560c39"
      },
      "execution_count": 5,
      "outputs": [
        {
          "output_type": "stream",
          "name": "stdout",
          "text": [
            "Collecting neo4j\n",
            "  Downloading neo4j-5.27.0-py3-none-any.whl.metadata (5.9 kB)\n",
            "Requirement already satisfied: pytz in /usr/local/lib/python3.10/dist-packages (from neo4j) (2024.2)\n",
            "Downloading neo4j-5.27.0-py3-none-any.whl (301 kB)\n",
            "\u001b[2K   \u001b[90m━━━━━━━━━━━━━━━━━━━━━━━━━━━━━━━━━━━━━━━━\u001b[0m \u001b[32m301.7/301.7 kB\u001b[0m \u001b[31m4.6 MB/s\u001b[0m eta \u001b[36m0:00:00\u001b[0m\n",
            "\u001b[?25hInstalling collected packages: neo4j\n",
            "Successfully installed neo4j-5.27.0\n"
          ]
        }
      ]
    },
    {
      "cell_type": "code",
      "source": [
        "from neo4j import GraphDatabase\n",
        "import json\n",
        "\n",
        "# Load data\n",
        "with open(\"cricket_data.json\") as f:\n",
        "    data = json.load(f)\n",
        "\n",
        "uri = \"neo4j+s://47eebc2d.databases.neo4j.io\"  # Replace with your Neo4j Aura Bolt URI\n",
        "username = \"neo4j\"  # Replace with your Neo4j username\n",
        "password = \"AjTYFQZ9YqM8y6DFtgDKVNbEo3TRsUkk5a51Cr5o5QY\"  # Replace with your Neo4j password\n",
        "\n",
        "# Connect to Neo4j\n",
        "driver = GraphDatabase.driver(uri, auth=(username, password))\n",
        "\n",
        "def populate_db(tx, teams, players, matches):\n",
        "    # Create teams\n",
        "    for team in teams:\n",
        "        tx.run(\"CREATE (:Team {name: $name, country: $country})\", **team)\n",
        "\n",
        "    # Create players\n",
        "    for player in players:\n",
        "        tx.run(\n",
        "            \"CREATE (:Player {name: $name, age: $age, role: $role})\",\n",
        "            name=player[\"name\"], age=player[\"age\"], role=player[\"role\"]\n",
        "        )\n",
        "        tx.run(\n",
        "            \"MATCH (p:Player {name: $name}), (t:Team {name: $team}) \"\n",
        "            \"CREATE (p)-[:PLAYS_FOR]->(t)\", name=player[\"name\"], team=player[\"team\"]\n",
        "        )\n",
        "\n",
        "    # Create matches\n",
        "    for match in matches:\n",
        "        tx.run(\n",
        "            \"CREATE (:Match {match_id: $match_id, date: $date, location: $location})\",\n",
        "            **match\n",
        "        )\n",
        "        tx.run(\n",
        "            \"\"\"\n",
        "            MATCH (t1:Team {name: $team1}), (t2:Team {name: $team2}), (m:Match {match_id: $match_id})\n",
        "            CREATE (t1)-[:WON]->(m), (t2)-[:LOST]->(m)\n",
        "            \"\"\",\n",
        "            team1=match[\"team1\"], team2=match[\"team2\"], match_id=match[\"match_id\"]\n",
        "        )\n",
        "\n",
        "with driver.session() as session:\n",
        "    session.execute_write(populate_db, data[\"teams\"], data[\"players\"], data[\"matches\"])\n",
        "\n",
        "print(\"Database populated successfully!\")\n"
      ],
      "metadata": {
        "colab": {
          "base_uri": "https://localhost:8080/"
        },
        "id": "ZPIrjXY4BFpZ",
        "outputId": "e89186f9-9d0f-466a-c3ca-dc34a3a4582d"
      },
      "execution_count": 7,
      "outputs": [
        {
          "output_type": "stream",
          "name": "stdout",
          "text": [
            "Database populated successfully!\n"
          ]
        }
      ]
    },
    {
      "cell_type": "markdown",
      "source": [
        "# Players in a Specific Team :\n",
        "\n",
        "\n",
        "\n",
        "```\n",
        "MATCH (p:Player)-[:PLAYS_FOR]->(t:Team {name: 'Team A'})\n",
        "RETURN p.name, p.role\n",
        "```\n",
        "\n"
      ],
      "metadata": {
        "id": "xBC9cTN6RZDP"
      }
    },
    {
      "cell_type": "code",
      "source": [
        "def query_players_in_team(tx, team_name):\n",
        "    result = tx.run(\n",
        "        \"MATCH (p:Player)-[:PLAYS_FOR]->(t:Team {name: $team}) RETURN p.name, p.role\",\n",
        "        team=team_name\n",
        "    )\n",
        "    return [record[\"p.name\"] for record in result]\n",
        "\n",
        "with driver.session() as session:\n",
        "    players = session.read_transaction(query_players_in_team, \"Team B\")\n",
        "    print(players)\n"
      ],
      "metadata": {
        "colab": {
          "base_uri": "https://localhost:8080/"
        },
        "id": "WyBlCnfuKEA4",
        "outputId": "85d1896a-a5ba-4971-b9c0-27e0fd264a85"
      },
      "execution_count": 10,
      "outputs": [
        {
          "output_type": "stream",
          "name": "stderr",
          "text": [
            "<ipython-input-10-a247d20c1343>:9: DeprecationWarning: read_transaction has been renamed to execute_read\n",
            "  players = session.read_transaction(query_players_in_team, \"Team B\")\n"
          ]
        },
        {
          "output_type": "stream",
          "name": "stdout",
          "text": [
            "['David Wood', 'Christopher Cruz']\n"
          ]
        }
      ]
    },
    {
      "cell_type": "markdown",
      "source": [
        "# Matches Played by a Team :\n",
        "\n",
        "```\n",
        "MATCH (t:Team {name: 'Team B'})-[:WON|LOST]->(m:Match)\n",
        "RETURN m.date, m.location\n",
        "```\n",
        "\n",
        "\n"
      ],
      "metadata": {
        "id": "D4eTH2c0Sh4z"
      }
    },
    {
      "cell_type": "code",
      "source": [
        "def matches_by_team(tx, team_name):\n",
        "    query = \"\"\"\n",
        "    MATCH (t:Team {name: $team_name})-[:WON|LOST]->(m:Match)\n",
        "    RETURN m.match_id AS MatchID, m.date AS Date, m.location AS Location\n",
        "    \"\"\"\n",
        "    result = tx.run(query, team_name=team_name)\n",
        "    return [{\"MatchID\": record[\"MatchID\"], \"Date\": record[\"Date\"], \"Location\": record[\"Location\"]} for record in result]\n",
        "\n",
        "with driver.session() as session:\n",
        "    team_name = \"Team B\"\n",
        "    matches = session.read_transaction(matches_by_team, team_name)\n",
        "    print(matches)\n"
      ],
      "metadata": {
        "colab": {
          "base_uri": "https://localhost:8080/"
        },
        "id": "KIwxFYvjRzAN",
        "outputId": "b0f58a52-a9ea-40af-b795-206f86c56d87"
      },
      "execution_count": 11,
      "outputs": [
        {
          "output_type": "stream",
          "name": "stderr",
          "text": [
            "<ipython-input-11-7bb0659b91ca>:11: DeprecationWarning: read_transaction has been renamed to execute_read\n",
            "  matches = session.read_transaction(matches_by_team, team_name)\n"
          ]
        },
        {
          "output_type": "stream",
          "name": "stdout",
          "text": [
            "[{'MatchID': 0, 'Date': '2023-07-06', 'Location': 'West Brett'}, {'MatchID': 7, 'Date': '2023-06-04', 'Location': 'South Kathryn'}]\n"
          ]
        }
      ]
    },
    {
      "cell_type": "code",
      "source": [
        "def teams_won_at_location(tx, location):\n",
        "    query = \"\"\"\n",
        "    MATCH (t:Team)-[:WON]->(m:Match {location: $location})\n",
        "    RETURN t.name AS Team, m.date AS Date\n",
        "    \"\"\"\n",
        "    result = tx.run(query, location=location)\n",
        "    return [{\"Team\": record[\"Team\"], \"Date\": record[\"Date\"]} for record in result]\n",
        "\n",
        "with driver.session() as session:\n",
        "    location = \"Mumbai\"\n",
        "    teams = session.read_transaction(teams_won_at_location, location)\n",
        "    print(teams)\n"
      ],
      "metadata": {
        "colab": {
          "base_uri": "https://localhost:8080/"
        },
        "id": "KlfcXcIdTBWw",
        "outputId": "06765603-bee9-414f-d9dd-28f87d9a22ed"
      },
      "execution_count": 12,
      "outputs": [
        {
          "output_type": "stream",
          "name": "stderr",
          "text": [
            "<ipython-input-12-10d4a83f1db1>:11: DeprecationWarning: read_transaction has been renamed to execute_read\n",
            "  teams = session.read_transaction(teams_won_at_location, location)\n"
          ]
        },
        {
          "output_type": "stream",
          "name": "stdout",
          "text": [
            "[{'Team': 'India', 'Date': '2023-10-14'}]\n"
          ]
        }
      ]
    },
    {
      "cell_type": "code",
      "source": [
        "def players_dismissed_by(tx, bowler_name):\n",
        "    query = \"\"\"\n",
        "    MATCH (b:Player {name: $bowler_name})-[:DISMISSED_BY]->(p:Player)\n",
        "    RETURN p.name AS Batsman\n",
        "    \"\"\"\n",
        "    result = tx.run(query, bowler_name=bowler_name)\n",
        "    return [record[\"Batsman\"] for record in result]\n",
        "\n",
        "with driver.session() as session:\n",
        "    bowler_name = \"Jasprit Bumrah\"\n",
        "    dismissed_players = session.read_transaction(players_dismissed_by, bowler_name)\n",
        "    print(dismissed_players)\n"
      ],
      "metadata": {
        "colab": {
          "base_uri": "https://localhost:8080/"
        },
        "id": "aCMMOYBUTFlW",
        "outputId": "fd049b69-0ef3-4b2f-f096-228dcf395584"
      },
      "execution_count": 13,
      "outputs": [
        {
          "output_type": "stream",
          "name": "stderr",
          "text": [
            "<ipython-input-13-8eaa564013be>:11: DeprecationWarning: read_transaction has been renamed to execute_read\n",
            "  dismissed_players = session.read_transaction(players_dismissed_by, bowler_name)\n",
            "WARNING:neo4j.notifications:Received notification from DBMS server: {severity: WARNING} {code: Neo.ClientNotification.Statement.UnknownRelationshipTypeWarning} {category: UNRECOGNIZED} {title: The provided relationship type is not in the database.} {description: One of the relationship types in your query is not available in the database, make sure you didn't misspell it or that the label is available when you run this statement in your application (the missing relationship type is: DISMISSED_BY)} {position: line: 2, column: 45, offset: 45} for query: '\\n    MATCH (b:Player {name: $bowler_name})-[:DISMISSED_BY]->(p:Player)\\n    RETURN p.name AS Batsman\\n    '\n"
          ]
        },
        {
          "output_type": "stream",
          "name": "stdout",
          "text": [
            "[]\n"
          ]
        }
      ]
    }
  ],
  "metadata": {
    "colab": {
      "provenance": []
    },
    "kernelspec": {
      "display_name": "Python 3",
      "name": "python3"
    },
    "language_info": {
      "name": "python"
    }
  },
  "nbformat": 4,
  "nbformat_minor": 0
}